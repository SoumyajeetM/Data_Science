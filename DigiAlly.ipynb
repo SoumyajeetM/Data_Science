{
  "cells": [
    {
      "cell_type": "markdown",
      "metadata": {
        "id": "view-in-github",
        "colab_type": "text"
      },
      "source": [
        "<a href=\"https://colab.research.google.com/github/SoumyajeetM/Data_Science/blob/main/DigiAlly.ipynb\" target=\"_parent\"><img src=\"https://colab.research.google.com/assets/colab-badge.svg\" alt=\"Open In Colab\"/></a>"
      ]
    },
    {
      "cell_type": "markdown",
      "id": "passive-andrews",
      "metadata": {
        "papermill": {
          "duration": 0.021413,
          "end_time": "2021-09-12T07:48:50.531598",
          "exception": false,
          "start_time": "2021-09-12T07:48:50.510185",
          "status": "completed"
        },
        "tags": [],
        "id": "passive-andrews"
      },
      "source": [
        "## Importing Libraries"
      ]
    },
    {
      "cell_type": "code",
      "execution_count": 1,
      "id": "brazilian-blackberry",
      "metadata": {
        "execution": {
          "iopub.execute_input": "2021-09-12T07:48:50.578646Z",
          "iopub.status.busy": "2021-09-12T07:48:50.576870Z",
          "iopub.status.idle": "2021-09-12T07:48:51.726155Z",
          "shell.execute_reply": "2021-09-12T07:48:51.726753Z",
          "shell.execute_reply.started": "2021-09-12T07:42:09.977341Z"
        },
        "hideCode": false,
        "hidePrompt": false,
        "id": "brazilian-blackberry",
        "papermill": {
          "duration": 1.174941,
          "end_time": "2021-09-12T07:48:51.727066",
          "exception": false,
          "start_time": "2021-09-12T07:48:50.552125",
          "status": "completed"
        },
        "tags": []
      },
      "outputs": [],
      "source": [
        "# Pandas is used for data manipulation\n",
        "import pandas as pd\n",
        "\n",
        "# Use numpy to convert to arrays\n",
        "import numpy as np\n",
        "\n",
        "# Import tools needed for visualization\n",
        "from sklearn.tree import export_graphviz\n",
        "import pydot\n",
        "import matplotlib.pyplot as plt\n",
        "%matplotlib inline"
      ]
    },
    {
      "cell_type": "markdown",
      "id": "figured-purple",
      "metadata": {
        "execution": {
          "iopub.execute_input": "2021-06-05T03:15:54.659441Z",
          "iopub.status.busy": "2021-06-05T03:15:54.658886Z",
          "iopub.status.idle": "2021-06-05T03:15:54.679235Z",
          "shell.execute_reply": "2021-06-05T03:15:54.677744Z",
          "shell.execute_reply.started": "2021-06-05T03:15:54.659396Z"
        },
        "papermill": {
          "duration": 0.021477,
          "end_time": "2021-09-12T07:48:51.769325",
          "exception": false,
          "start_time": "2021-09-12T07:48:51.747848",
          "status": "completed"
        },
        "tags": [],
        "id": "figured-purple"
      },
      "source": [
        "## Data Exploration"
      ]
    },
    {
      "cell_type": "code",
      "execution_count": 3,
      "id": "efficient-bones",
      "metadata": {
        "execution": {
          "iopub.execute_input": "2021-09-12T07:48:51.824950Z",
          "iopub.status.busy": "2021-09-12T07:48:51.823925Z",
          "iopub.status.idle": "2021-09-12T07:48:51.842794Z",
          "shell.execute_reply": "2021-09-12T07:48:51.843307Z",
          "shell.execute_reply.started": "2021-09-12T07:42:11.177971Z"
        },
        "papermill": {
          "duration": 0.048525,
          "end_time": "2021-09-12T07:48:51.843511",
          "exception": false,
          "start_time": "2021-09-12T07:48:51.794986",
          "status": "completed"
        },
        "tags": [],
        "id": "efficient-bones"
      },
      "outputs": [],
      "source": [
        "# Reading the data to a dataframe\n",
        "df = pd.read_csv('temps.csv')"
      ]
    },
    {
      "cell_type": "code",
      "execution_count": 4,
      "id": "genuine-programmer",
      "metadata": {
        "execution": {
          "iopub.execute_input": "2021-09-12T07:48:51.893239Z",
          "iopub.status.busy": "2021-09-12T07:48:51.892601Z",
          "iopub.status.idle": "2021-09-12T07:48:51.920871Z",
          "shell.execute_reply": "2021-09-12T07:48:51.921383Z",
          "shell.execute_reply.started": "2021-09-12T07:42:11.200999Z"
        },
        "papermill": {
          "duration": 0.054899,
          "end_time": "2021-09-12T07:48:51.921566",
          "exception": false,
          "start_time": "2021-09-12T07:48:51.866667",
          "status": "completed"
        },
        "tags": [],
        "colab": {
          "base_uri": "https://localhost:8080/",
          "height": 206
        },
        "id": "genuine-programmer",
        "outputId": "daac9fe2-9236-4429-8c00-aa3f65f559e0"
      },
      "outputs": [
        {
          "output_type": "execute_result",
          "data": {
            "text/plain": [
              "   year  month  day  week  temp_2  temp_1  average  actual  friend\n",
              "0  2019      1    1   Fri      45      45     45.6      45      29\n",
              "1  2019      1    2   Sat      44      45     45.7      44      61\n",
              "2  2019      1    3   Sun      45      44     45.8      41      56\n",
              "3  2019      1    4   Mon      44      41     45.9      40      53\n",
              "4  2019      1    5  Tues      41      40     46.0      44      41"
            ],
            "text/html": [
              "\n",
              "  <div id=\"df-35603faf-45b4-4af3-a884-5779643fb2f1\" class=\"colab-df-container\">\n",
              "    <div>\n",
              "<style scoped>\n",
              "    .dataframe tbody tr th:only-of-type {\n",
              "        vertical-align: middle;\n",
              "    }\n",
              "\n",
              "    .dataframe tbody tr th {\n",
              "        vertical-align: top;\n",
              "    }\n",
              "\n",
              "    .dataframe thead th {\n",
              "        text-align: right;\n",
              "    }\n",
              "</style>\n",
              "<table border=\"1\" class=\"dataframe\">\n",
              "  <thead>\n",
              "    <tr style=\"text-align: right;\">\n",
              "      <th></th>\n",
              "      <th>year</th>\n",
              "      <th>month</th>\n",
              "      <th>day</th>\n",
              "      <th>week</th>\n",
              "      <th>temp_2</th>\n",
              "      <th>temp_1</th>\n",
              "      <th>average</th>\n",
              "      <th>actual</th>\n",
              "      <th>friend</th>\n",
              "    </tr>\n",
              "  </thead>\n",
              "  <tbody>\n",
              "    <tr>\n",
              "      <th>0</th>\n",
              "      <td>2019</td>\n",
              "      <td>1</td>\n",
              "      <td>1</td>\n",
              "      <td>Fri</td>\n",
              "      <td>45</td>\n",
              "      <td>45</td>\n",
              "      <td>45.6</td>\n",
              "      <td>45</td>\n",
              "      <td>29</td>\n",
              "    </tr>\n",
              "    <tr>\n",
              "      <th>1</th>\n",
              "      <td>2019</td>\n",
              "      <td>1</td>\n",
              "      <td>2</td>\n",
              "      <td>Sat</td>\n",
              "      <td>44</td>\n",
              "      <td>45</td>\n",
              "      <td>45.7</td>\n",
              "      <td>44</td>\n",
              "      <td>61</td>\n",
              "    </tr>\n",
              "    <tr>\n",
              "      <th>2</th>\n",
              "      <td>2019</td>\n",
              "      <td>1</td>\n",
              "      <td>3</td>\n",
              "      <td>Sun</td>\n",
              "      <td>45</td>\n",
              "      <td>44</td>\n",
              "      <td>45.8</td>\n",
              "      <td>41</td>\n",
              "      <td>56</td>\n",
              "    </tr>\n",
              "    <tr>\n",
              "      <th>3</th>\n",
              "      <td>2019</td>\n",
              "      <td>1</td>\n",
              "      <td>4</td>\n",
              "      <td>Mon</td>\n",
              "      <td>44</td>\n",
              "      <td>41</td>\n",
              "      <td>45.9</td>\n",
              "      <td>40</td>\n",
              "      <td>53</td>\n",
              "    </tr>\n",
              "    <tr>\n",
              "      <th>4</th>\n",
              "      <td>2019</td>\n",
              "      <td>1</td>\n",
              "      <td>5</td>\n",
              "      <td>Tues</td>\n",
              "      <td>41</td>\n",
              "      <td>40</td>\n",
              "      <td>46.0</td>\n",
              "      <td>44</td>\n",
              "      <td>41</td>\n",
              "    </tr>\n",
              "  </tbody>\n",
              "</table>\n",
              "</div>\n",
              "    <div class=\"colab-df-buttons\">\n",
              "\n",
              "  <div class=\"colab-df-container\">\n",
              "    <button class=\"colab-df-convert\" onclick=\"convertToInteractive('df-35603faf-45b4-4af3-a884-5779643fb2f1')\"\n",
              "            title=\"Convert this dataframe to an interactive table.\"\n",
              "            style=\"display:none;\">\n",
              "\n",
              "  <svg xmlns=\"http://www.w3.org/2000/svg\" height=\"24px\" viewBox=\"0 -960 960 960\">\n",
              "    <path d=\"M120-120v-720h720v720H120Zm60-500h600v-160H180v160Zm220 220h160v-160H400v160Zm0 220h160v-160H400v160ZM180-400h160v-160H180v160Zm440 0h160v-160H620v160ZM180-180h160v-160H180v160Zm440 0h160v-160H620v160Z\"/>\n",
              "  </svg>\n",
              "    </button>\n",
              "\n",
              "  <style>\n",
              "    .colab-df-container {\n",
              "      display:flex;\n",
              "      gap: 12px;\n",
              "    }\n",
              "\n",
              "    .colab-df-convert {\n",
              "      background-color: #E8F0FE;\n",
              "      border: none;\n",
              "      border-radius: 50%;\n",
              "      cursor: pointer;\n",
              "      display: none;\n",
              "      fill: #1967D2;\n",
              "      height: 32px;\n",
              "      padding: 0 0 0 0;\n",
              "      width: 32px;\n",
              "    }\n",
              "\n",
              "    .colab-df-convert:hover {\n",
              "      background-color: #E2EBFA;\n",
              "      box-shadow: 0px 1px 2px rgba(60, 64, 67, 0.3), 0px 1px 3px 1px rgba(60, 64, 67, 0.15);\n",
              "      fill: #174EA6;\n",
              "    }\n",
              "\n",
              "    .colab-df-buttons div {\n",
              "      margin-bottom: 4px;\n",
              "    }\n",
              "\n",
              "    [theme=dark] .colab-df-convert {\n",
              "      background-color: #3B4455;\n",
              "      fill: #D2E3FC;\n",
              "    }\n",
              "\n",
              "    [theme=dark] .colab-df-convert:hover {\n",
              "      background-color: #434B5C;\n",
              "      box-shadow: 0px 1px 3px 1px rgba(0, 0, 0, 0.15);\n",
              "      filter: drop-shadow(0px 1px 2px rgba(0, 0, 0, 0.3));\n",
              "      fill: #FFFFFF;\n",
              "    }\n",
              "  </style>\n",
              "\n",
              "    <script>\n",
              "      const buttonEl =\n",
              "        document.querySelector('#df-35603faf-45b4-4af3-a884-5779643fb2f1 button.colab-df-convert');\n",
              "      buttonEl.style.display =\n",
              "        google.colab.kernel.accessAllowed ? 'block' : 'none';\n",
              "\n",
              "      async function convertToInteractive(key) {\n",
              "        const element = document.querySelector('#df-35603faf-45b4-4af3-a884-5779643fb2f1');\n",
              "        const dataTable =\n",
              "          await google.colab.kernel.invokeFunction('convertToInteractive',\n",
              "                                                    [key], {});\n",
              "        if (!dataTable) return;\n",
              "\n",
              "        const docLinkHtml = 'Like what you see? Visit the ' +\n",
              "          '<a target=\"_blank\" href=https://colab.research.google.com/notebooks/data_table.ipynb>data table notebook</a>'\n",
              "          + ' to learn more about interactive tables.';\n",
              "        element.innerHTML = '';\n",
              "        dataTable['output_type'] = 'display_data';\n",
              "        await google.colab.output.renderOutput(dataTable, element);\n",
              "        const docLink = document.createElement('div');\n",
              "        docLink.innerHTML = docLinkHtml;\n",
              "        element.appendChild(docLink);\n",
              "      }\n",
              "    </script>\n",
              "  </div>\n",
              "\n",
              "\n",
              "<div id=\"df-ce95ab5a-1745-4567-9be2-b183702e1809\">\n",
              "  <button class=\"colab-df-quickchart\" onclick=\"quickchart('df-ce95ab5a-1745-4567-9be2-b183702e1809')\"\n",
              "            title=\"Suggest charts\"\n",
              "            style=\"display:none;\">\n",
              "\n",
              "<svg xmlns=\"http://www.w3.org/2000/svg\" height=\"24px\"viewBox=\"0 0 24 24\"\n",
              "     width=\"24px\">\n",
              "    <g>\n",
              "        <path d=\"M19 3H5c-1.1 0-2 .9-2 2v14c0 1.1.9 2 2 2h14c1.1 0 2-.9 2-2V5c0-1.1-.9-2-2-2zM9 17H7v-7h2v7zm4 0h-2V7h2v10zm4 0h-2v-4h2v4z\"/>\n",
              "    </g>\n",
              "</svg>\n",
              "  </button>\n",
              "\n",
              "<style>\n",
              "  .colab-df-quickchart {\n",
              "      --bg-color: #E8F0FE;\n",
              "      --fill-color: #1967D2;\n",
              "      --hover-bg-color: #E2EBFA;\n",
              "      --hover-fill-color: #174EA6;\n",
              "      --disabled-fill-color: #AAA;\n",
              "      --disabled-bg-color: #DDD;\n",
              "  }\n",
              "\n",
              "  [theme=dark] .colab-df-quickchart {\n",
              "      --bg-color: #3B4455;\n",
              "      --fill-color: #D2E3FC;\n",
              "      --hover-bg-color: #434B5C;\n",
              "      --hover-fill-color: #FFFFFF;\n",
              "      --disabled-bg-color: #3B4455;\n",
              "      --disabled-fill-color: #666;\n",
              "  }\n",
              "\n",
              "  .colab-df-quickchart {\n",
              "    background-color: var(--bg-color);\n",
              "    border: none;\n",
              "    border-radius: 50%;\n",
              "    cursor: pointer;\n",
              "    display: none;\n",
              "    fill: var(--fill-color);\n",
              "    height: 32px;\n",
              "    padding: 0;\n",
              "    width: 32px;\n",
              "  }\n",
              "\n",
              "  .colab-df-quickchart:hover {\n",
              "    background-color: var(--hover-bg-color);\n",
              "    box-shadow: 0 1px 2px rgba(60, 64, 67, 0.3), 0 1px 3px 1px rgba(60, 64, 67, 0.15);\n",
              "    fill: var(--button-hover-fill-color);\n",
              "  }\n",
              "\n",
              "  .colab-df-quickchart-complete:disabled,\n",
              "  .colab-df-quickchart-complete:disabled:hover {\n",
              "    background-color: var(--disabled-bg-color);\n",
              "    fill: var(--disabled-fill-color);\n",
              "    box-shadow: none;\n",
              "  }\n",
              "\n",
              "  .colab-df-spinner {\n",
              "    border: 2px solid var(--fill-color);\n",
              "    border-color: transparent;\n",
              "    border-bottom-color: var(--fill-color);\n",
              "    animation:\n",
              "      spin 1s steps(1) infinite;\n",
              "  }\n",
              "\n",
              "  @keyframes spin {\n",
              "    0% {\n",
              "      border-color: transparent;\n",
              "      border-bottom-color: var(--fill-color);\n",
              "      border-left-color: var(--fill-color);\n",
              "    }\n",
              "    20% {\n",
              "      border-color: transparent;\n",
              "      border-left-color: var(--fill-color);\n",
              "      border-top-color: var(--fill-color);\n",
              "    }\n",
              "    30% {\n",
              "      border-color: transparent;\n",
              "      border-left-color: var(--fill-color);\n",
              "      border-top-color: var(--fill-color);\n",
              "      border-right-color: var(--fill-color);\n",
              "    }\n",
              "    40% {\n",
              "      border-color: transparent;\n",
              "      border-right-color: var(--fill-color);\n",
              "      border-top-color: var(--fill-color);\n",
              "    }\n",
              "    60% {\n",
              "      border-color: transparent;\n",
              "      border-right-color: var(--fill-color);\n",
              "    }\n",
              "    80% {\n",
              "      border-color: transparent;\n",
              "      border-right-color: var(--fill-color);\n",
              "      border-bottom-color: var(--fill-color);\n",
              "    }\n",
              "    90% {\n",
              "      border-color: transparent;\n",
              "      border-bottom-color: var(--fill-color);\n",
              "    }\n",
              "  }\n",
              "</style>\n",
              "\n",
              "  <script>\n",
              "    async function quickchart(key) {\n",
              "      const quickchartButtonEl =\n",
              "        document.querySelector('#' + key + ' button');\n",
              "      quickchartButtonEl.disabled = true;  // To prevent multiple clicks.\n",
              "      quickchartButtonEl.classList.add('colab-df-spinner');\n",
              "      try {\n",
              "        const charts = await google.colab.kernel.invokeFunction(\n",
              "            'suggestCharts', [key], {});\n",
              "      } catch (error) {\n",
              "        console.error('Error during call to suggestCharts:', error);\n",
              "      }\n",
              "      quickchartButtonEl.classList.remove('colab-df-spinner');\n",
              "      quickchartButtonEl.classList.add('colab-df-quickchart-complete');\n",
              "    }\n",
              "    (() => {\n",
              "      let quickchartButtonEl =\n",
              "        document.querySelector('#df-ce95ab5a-1745-4567-9be2-b183702e1809 button');\n",
              "      quickchartButtonEl.style.display =\n",
              "        google.colab.kernel.accessAllowed ? 'block' : 'none';\n",
              "    })();\n",
              "  </script>\n",
              "</div>\n",
              "\n",
              "    </div>\n",
              "  </div>\n"
            ],
            "application/vnd.google.colaboratory.intrinsic+json": {
              "type": "dataframe",
              "variable_name": "df",
              "summary": "{\n  \"name\": \"df\",\n  \"rows\": 348,\n  \"fields\": [\n    {\n      \"column\": \"year\",\n      \"properties\": {\n        \"dtype\": \"number\",\n        \"std\": 0,\n        \"min\": 2019,\n        \"max\": 2019,\n        \"num_unique_values\": 1,\n        \"samples\": [\n          2019\n        ],\n        \"semantic_type\": \"\",\n        \"description\": \"\"\n      }\n    },\n    {\n      \"column\": \"month\",\n      \"properties\": {\n        \"dtype\": \"number\",\n        \"std\": 3,\n        \"min\": 1,\n        \"max\": 12,\n        \"num_unique_values\": 12,\n        \"samples\": [\n          11\n        ],\n        \"semantic_type\": \"\",\n        \"description\": \"\"\n      }\n    },\n    {\n      \"column\": \"day\",\n      \"properties\": {\n        \"dtype\": \"number\",\n        \"std\": 8,\n        \"min\": 1,\n        \"max\": 31,\n        \"num_unique_values\": 31,\n        \"samples\": [\n          28\n        ],\n        \"semantic_type\": \"\",\n        \"description\": \"\"\n      }\n    },\n    {\n      \"column\": \"week\",\n      \"properties\": {\n        \"dtype\": \"category\",\n        \"num_unique_values\": 7,\n        \"samples\": [\n          \"Fri\"\n        ],\n        \"semantic_type\": \"\",\n        \"description\": \"\"\n      }\n    },\n    {\n      \"column\": \"temp_2\",\n      \"properties\": {\n        \"dtype\": \"number\",\n        \"std\": 12,\n        \"min\": 35,\n        \"max\": 117,\n        \"num_unique_values\": 56,\n        \"samples\": [\n          45\n        ],\n        \"semantic_type\": \"\",\n        \"description\": \"\"\n      }\n    },\n    {\n      \"column\": \"temp_1\",\n      \"properties\": {\n        \"dtype\": \"number\",\n        \"std\": 12,\n        \"min\": 35,\n        \"max\": 117,\n        \"num_unique_values\": 56,\n        \"samples\": [\n          45\n        ],\n        \"semantic_type\": \"\",\n        \"description\": \"\"\n      }\n    },\n    {\n      \"column\": \"average\",\n      \"properties\": {\n        \"dtype\": \"number\",\n        \"std\": 10.527306425625643,\n        \"min\": 45.1,\n        \"max\": 77.4,\n        \"num_unique_values\": 243,\n        \"samples\": [\n          48.2\n        ],\n        \"semantic_type\": \"\",\n        \"description\": \"\"\n      }\n    },\n    {\n      \"column\": \"actual\",\n      \"properties\": {\n        \"dtype\": \"number\",\n        \"std\": 11,\n        \"min\": 35,\n        \"max\": 92,\n        \"num_unique_values\": 55,\n        \"samples\": [\n          81\n        ],\n        \"semantic_type\": \"\",\n        \"description\": \"\"\n      }\n    },\n    {\n      \"column\": \"friend\",\n      \"properties\": {\n        \"dtype\": \"number\",\n        \"std\": 15,\n        \"min\": 28,\n        \"max\": 95,\n        \"num_unique_values\": 66,\n        \"samples\": [\n          89\n        ],\n        \"semantic_type\": \"\",\n        \"description\": \"\"\n      }\n    }\n  ]\n}"
            }
          },
          "metadata": {},
          "execution_count": 4
        }
      ],
      "source": [
        "# displaying first 5 rows\n",
        "df.head(5)"
      ]
    },
    {
      "cell_type": "code",
      "execution_count": 5,
      "id": "destroyed-technique",
      "metadata": {
        "execution": {
          "iopub.execute_input": "2021-09-12T07:48:51.968960Z",
          "iopub.status.busy": "2021-09-12T07:48:51.968234Z",
          "iopub.status.idle": "2021-09-12T07:48:51.971341Z",
          "shell.execute_reply": "2021-09-12T07:48:51.971916Z",
          "shell.execute_reply.started": "2021-09-12T07:42:11.232503Z"
        },
        "hideCode": false,
        "hidePrompt": false,
        "id": "destroyed-technique",
        "outputId": "7e89a170-26e1-4336-b433-a38c8d50c017",
        "papermill": {
          "duration": 0.029152,
          "end_time": "2021-09-12T07:48:51.972087",
          "exception": false,
          "start_time": "2021-09-12T07:48:51.942935",
          "status": "completed"
        },
        "tags": [],
        "colab": {
          "base_uri": "https://localhost:8080/"
        }
      },
      "outputs": [
        {
          "output_type": "execute_result",
          "data": {
            "text/plain": [
              "(348, 9)"
            ]
          },
          "metadata": {},
          "execution_count": 5
        }
      ],
      "source": [
        "# the shape of our features\n",
        "df.shape"
      ]
    },
    {
      "cell_type": "code",
      "execution_count": 6,
      "id": "critical-surgeon",
      "metadata": {
        "execution": {
          "iopub.execute_input": "2021-09-12T07:48:52.018099Z",
          "iopub.status.busy": "2021-09-12T07:48:52.017345Z",
          "iopub.status.idle": "2021-09-12T07:48:52.022248Z",
          "shell.execute_reply": "2021-09-12T07:48:52.022781Z",
          "shell.execute_reply.started": "2021-09-12T07:42:11.239913Z"
        },
        "papermill": {
          "duration": 0.029163,
          "end_time": "2021-09-12T07:48:52.022965",
          "exception": false,
          "start_time": "2021-09-12T07:48:51.993802",
          "status": "completed"
        },
        "tags": [],
        "colab": {
          "base_uri": "https://localhost:8080/"
        },
        "id": "critical-surgeon",
        "outputId": "a39f9e6d-c6bd-40ae-da63-a826451dfee8"
      },
      "outputs": [
        {
          "output_type": "execute_result",
          "data": {
            "text/plain": [
              "Index(['year', 'month', 'day', 'week', 'temp_2', 'temp_1', 'average', 'actual',\n",
              "       'friend'],\n",
              "      dtype='object')"
            ]
          },
          "metadata": {},
          "execution_count": 6
        }
      ],
      "source": [
        "# column names\n",
        "df.columns"
      ]
    },
    {
      "cell_type": "code",
      "execution_count": 7,
      "id": "compressed-threat",
      "metadata": {
        "execution": {
          "iopub.execute_input": "2021-09-12T07:48:52.069856Z",
          "iopub.status.busy": "2021-09-12T07:48:52.069232Z",
          "iopub.status.idle": "2021-09-12T07:48:52.076669Z",
          "shell.execute_reply": "2021-09-12T07:48:52.077175Z",
          "shell.execute_reply.started": "2021-09-12T07:42:11.256038Z"
        },
        "papermill": {
          "duration": 0.032077,
          "end_time": "2021-09-12T07:48:52.077341",
          "exception": false,
          "start_time": "2021-09-12T07:48:52.045264",
          "status": "completed"
        },
        "tags": [],
        "colab": {
          "base_uri": "https://localhost:8080/",
          "height": 366
        },
        "id": "compressed-threat",
        "outputId": "ff56aacc-d9fa-44bd-a631-b3ad30676c62"
      },
      "outputs": [
        {
          "output_type": "execute_result",
          "data": {
            "text/plain": [
              "year       0\n",
              "month      0\n",
              "day        0\n",
              "week       0\n",
              "temp_2     0\n",
              "temp_1     0\n",
              "average    0\n",
              "actual     0\n",
              "friend     0\n",
              "dtype: int64"
            ],
            "text/html": [
              "<div>\n",
              "<style scoped>\n",
              "    .dataframe tbody tr th:only-of-type {\n",
              "        vertical-align: middle;\n",
              "    }\n",
              "\n",
              "    .dataframe tbody tr th {\n",
              "        vertical-align: top;\n",
              "    }\n",
              "\n",
              "    .dataframe thead th {\n",
              "        text-align: right;\n",
              "    }\n",
              "</style>\n",
              "<table border=\"1\" class=\"dataframe\">\n",
              "  <thead>\n",
              "    <tr style=\"text-align: right;\">\n",
              "      <th></th>\n",
              "      <th>0</th>\n",
              "    </tr>\n",
              "  </thead>\n",
              "  <tbody>\n",
              "    <tr>\n",
              "      <th>year</th>\n",
              "      <td>0</td>\n",
              "    </tr>\n",
              "    <tr>\n",
              "      <th>month</th>\n",
              "      <td>0</td>\n",
              "    </tr>\n",
              "    <tr>\n",
              "      <th>day</th>\n",
              "      <td>0</td>\n",
              "    </tr>\n",
              "    <tr>\n",
              "      <th>week</th>\n",
              "      <td>0</td>\n",
              "    </tr>\n",
              "    <tr>\n",
              "      <th>temp_2</th>\n",
              "      <td>0</td>\n",
              "    </tr>\n",
              "    <tr>\n",
              "      <th>temp_1</th>\n",
              "      <td>0</td>\n",
              "    </tr>\n",
              "    <tr>\n",
              "      <th>average</th>\n",
              "      <td>0</td>\n",
              "    </tr>\n",
              "    <tr>\n",
              "      <th>actual</th>\n",
              "      <td>0</td>\n",
              "    </tr>\n",
              "    <tr>\n",
              "      <th>friend</th>\n",
              "      <td>0</td>\n",
              "    </tr>\n",
              "  </tbody>\n",
              "</table>\n",
              "</div><br><label><b>dtype:</b> int64</label>"
            ]
          },
          "metadata": {},
          "execution_count": 7
        }
      ],
      "source": [
        "# checking for null values\n",
        "df.isnull().sum()"
      ]
    },
    {
      "cell_type": "markdown",
      "id": "victorian-infrastructure",
      "metadata": {
        "papermill": {
          "duration": 0.02244,
          "end_time": "2021-09-12T07:48:52.121809",
          "exception": false,
          "start_time": "2021-09-12T07:48:52.099369",
          "status": "completed"
        },
        "tags": [],
        "id": "victorian-infrastructure"
      },
      "source": [
        "There are no null values"
      ]
    },
    {
      "cell_type": "markdown",
      "id": "egyptian-ordinary",
      "metadata": {
        "id": "egyptian-ordinary",
        "papermill": {
          "duration": 0.021446,
          "end_time": "2021-09-12T07:48:52.165221",
          "exception": false,
          "start_time": "2021-09-12T07:48:52.143775",
          "status": "completed"
        },
        "tags": []
      },
      "source": [
        "## One-Hot Encoding"
      ]
    },
    {
      "cell_type": "markdown",
      "id": "increased-memorabilia",
      "metadata": {
        "execution": {
          "iopub.execute_input": "2021-06-05T03:26:04.246284Z",
          "iopub.status.busy": "2021-06-05T03:26:04.245896Z",
          "iopub.status.idle": "2021-06-05T03:26:04.252279Z",
          "shell.execute_reply": "2021-06-05T03:26:04.250937Z",
          "shell.execute_reply.started": "2021-06-05T03:26:04.246247Z"
        },
        "papermill": {
          "duration": 0.021579,
          "end_time": "2021-09-12T07:48:52.208690",
          "exception": false,
          "start_time": "2021-09-12T07:48:52.187111",
          "status": "completed"
        },
        "tags": [],
        "id": "increased-memorabilia"
      },
      "source": [
        "A one hot encoding allows the representation of categorical data to be more expressive."
      ]
    },
    {
      "cell_type": "code",
      "execution_count": 8,
      "id": "standing-milan",
      "metadata": {
        "execution": {
          "iopub.execute_input": "2021-09-12T07:48:52.255591Z",
          "iopub.status.busy": "2021-09-12T07:48:52.254860Z",
          "iopub.status.idle": "2021-09-12T07:48:52.282754Z",
          "shell.execute_reply": "2021-09-12T07:48:52.282121Z",
          "shell.execute_reply.started": "2021-09-12T07:42:11.273418Z"
        },
        "hideCode": false,
        "hidePrompt": false,
        "id": "standing-milan",
        "outputId": "28447b94-dec8-4bd5-ec8b-47b6b71f0789",
        "papermill": {
          "duration": 0.052435,
          "end_time": "2021-09-12T07:48:52.282889",
          "exception": false,
          "start_time": "2021-09-12T07:48:52.230454",
          "status": "completed"
        },
        "tags": [],
        "colab": {
          "base_uri": "https://localhost:8080/",
          "height": 206
        }
      },
      "outputs": [
        {
          "output_type": "execute_result",
          "data": {
            "text/plain": [
              "   year  month  day  temp_2  temp_1  average  actual  friend  week_Fri  \\\n",
              "0  2019      1    1      45      45     45.6      45      29      True   \n",
              "1  2019      1    2      44      45     45.7      44      61     False   \n",
              "2  2019      1    3      45      44     45.8      41      56     False   \n",
              "3  2019      1    4      44      41     45.9      40      53     False   \n",
              "4  2019      1    5      41      40     46.0      44      41     False   \n",
              "\n",
              "   week_Mon  week_Sat  week_Sun  week_Thurs  week_Tues  week_Wed  \n",
              "0     False     False     False       False      False     False  \n",
              "1     False      True     False       False      False     False  \n",
              "2     False     False      True       False      False     False  \n",
              "3      True     False     False       False      False     False  \n",
              "4     False     False     False       False       True     False  "
            ],
            "text/html": [
              "\n",
              "  <div id=\"df-ef16433a-f482-4919-972f-26ca9e9b9453\" class=\"colab-df-container\">\n",
              "    <div>\n",
              "<style scoped>\n",
              "    .dataframe tbody tr th:only-of-type {\n",
              "        vertical-align: middle;\n",
              "    }\n",
              "\n",
              "    .dataframe tbody tr th {\n",
              "        vertical-align: top;\n",
              "    }\n",
              "\n",
              "    .dataframe thead th {\n",
              "        text-align: right;\n",
              "    }\n",
              "</style>\n",
              "<table border=\"1\" class=\"dataframe\">\n",
              "  <thead>\n",
              "    <tr style=\"text-align: right;\">\n",
              "      <th></th>\n",
              "      <th>year</th>\n",
              "      <th>month</th>\n",
              "      <th>day</th>\n",
              "      <th>temp_2</th>\n",
              "      <th>temp_1</th>\n",
              "      <th>average</th>\n",
              "      <th>actual</th>\n",
              "      <th>friend</th>\n",
              "      <th>week_Fri</th>\n",
              "      <th>week_Mon</th>\n",
              "      <th>week_Sat</th>\n",
              "      <th>week_Sun</th>\n",
              "      <th>week_Thurs</th>\n",
              "      <th>week_Tues</th>\n",
              "      <th>week_Wed</th>\n",
              "    </tr>\n",
              "  </thead>\n",
              "  <tbody>\n",
              "    <tr>\n",
              "      <th>0</th>\n",
              "      <td>2019</td>\n",
              "      <td>1</td>\n",
              "      <td>1</td>\n",
              "      <td>45</td>\n",
              "      <td>45</td>\n",
              "      <td>45.6</td>\n",
              "      <td>45</td>\n",
              "      <td>29</td>\n",
              "      <td>True</td>\n",
              "      <td>False</td>\n",
              "      <td>False</td>\n",
              "      <td>False</td>\n",
              "      <td>False</td>\n",
              "      <td>False</td>\n",
              "      <td>False</td>\n",
              "    </tr>\n",
              "    <tr>\n",
              "      <th>1</th>\n",
              "      <td>2019</td>\n",
              "      <td>1</td>\n",
              "      <td>2</td>\n",
              "      <td>44</td>\n",
              "      <td>45</td>\n",
              "      <td>45.7</td>\n",
              "      <td>44</td>\n",
              "      <td>61</td>\n",
              "      <td>False</td>\n",
              "      <td>False</td>\n",
              "      <td>True</td>\n",
              "      <td>False</td>\n",
              "      <td>False</td>\n",
              "      <td>False</td>\n",
              "      <td>False</td>\n",
              "    </tr>\n",
              "    <tr>\n",
              "      <th>2</th>\n",
              "      <td>2019</td>\n",
              "      <td>1</td>\n",
              "      <td>3</td>\n",
              "      <td>45</td>\n",
              "      <td>44</td>\n",
              "      <td>45.8</td>\n",
              "      <td>41</td>\n",
              "      <td>56</td>\n",
              "      <td>False</td>\n",
              "      <td>False</td>\n",
              "      <td>False</td>\n",
              "      <td>True</td>\n",
              "      <td>False</td>\n",
              "      <td>False</td>\n",
              "      <td>False</td>\n",
              "    </tr>\n",
              "    <tr>\n",
              "      <th>3</th>\n",
              "      <td>2019</td>\n",
              "      <td>1</td>\n",
              "      <td>4</td>\n",
              "      <td>44</td>\n",
              "      <td>41</td>\n",
              "      <td>45.9</td>\n",
              "      <td>40</td>\n",
              "      <td>53</td>\n",
              "      <td>False</td>\n",
              "      <td>True</td>\n",
              "      <td>False</td>\n",
              "      <td>False</td>\n",
              "      <td>False</td>\n",
              "      <td>False</td>\n",
              "      <td>False</td>\n",
              "    </tr>\n",
              "    <tr>\n",
              "      <th>4</th>\n",
              "      <td>2019</td>\n",
              "      <td>1</td>\n",
              "      <td>5</td>\n",
              "      <td>41</td>\n",
              "      <td>40</td>\n",
              "      <td>46.0</td>\n",
              "      <td>44</td>\n",
              "      <td>41</td>\n",
              "      <td>False</td>\n",
              "      <td>False</td>\n",
              "      <td>False</td>\n",
              "      <td>False</td>\n",
              "      <td>False</td>\n",
              "      <td>True</td>\n",
              "      <td>False</td>\n",
              "    </tr>\n",
              "  </tbody>\n",
              "</table>\n",
              "</div>\n",
              "    <div class=\"colab-df-buttons\">\n",
              "\n",
              "  <div class=\"colab-df-container\">\n",
              "    <button class=\"colab-df-convert\" onclick=\"convertToInteractive('df-ef16433a-f482-4919-972f-26ca9e9b9453')\"\n",
              "            title=\"Convert this dataframe to an interactive table.\"\n",
              "            style=\"display:none;\">\n",
              "\n",
              "  <svg xmlns=\"http://www.w3.org/2000/svg\" height=\"24px\" viewBox=\"0 -960 960 960\">\n",
              "    <path d=\"M120-120v-720h720v720H120Zm60-500h600v-160H180v160Zm220 220h160v-160H400v160Zm0 220h160v-160H400v160ZM180-400h160v-160H180v160Zm440 0h160v-160H620v160ZM180-180h160v-160H180v160Zm440 0h160v-160H620v160Z\"/>\n",
              "  </svg>\n",
              "    </button>\n",
              "\n",
              "  <style>\n",
              "    .colab-df-container {\n",
              "      display:flex;\n",
              "      gap: 12px;\n",
              "    }\n",
              "\n",
              "    .colab-df-convert {\n",
              "      background-color: #E8F0FE;\n",
              "      border: none;\n",
              "      border-radius: 50%;\n",
              "      cursor: pointer;\n",
              "      display: none;\n",
              "      fill: #1967D2;\n",
              "      height: 32px;\n",
              "      padding: 0 0 0 0;\n",
              "      width: 32px;\n",
              "    }\n",
              "\n",
              "    .colab-df-convert:hover {\n",
              "      background-color: #E2EBFA;\n",
              "      box-shadow: 0px 1px 2px rgba(60, 64, 67, 0.3), 0px 1px 3px 1px rgba(60, 64, 67, 0.15);\n",
              "      fill: #174EA6;\n",
              "    }\n",
              "\n",
              "    .colab-df-buttons div {\n",
              "      margin-bottom: 4px;\n",
              "    }\n",
              "\n",
              "    [theme=dark] .colab-df-convert {\n",
              "      background-color: #3B4455;\n",
              "      fill: #D2E3FC;\n",
              "    }\n",
              "\n",
              "    [theme=dark] .colab-df-convert:hover {\n",
              "      background-color: #434B5C;\n",
              "      box-shadow: 0px 1px 3px 1px rgba(0, 0, 0, 0.15);\n",
              "      filter: drop-shadow(0px 1px 2px rgba(0, 0, 0, 0.3));\n",
              "      fill: #FFFFFF;\n",
              "    }\n",
              "  </style>\n",
              "\n",
              "    <script>\n",
              "      const buttonEl =\n",
              "        document.querySelector('#df-ef16433a-f482-4919-972f-26ca9e9b9453 button.colab-df-convert');\n",
              "      buttonEl.style.display =\n",
              "        google.colab.kernel.accessAllowed ? 'block' : 'none';\n",
              "\n",
              "      async function convertToInteractive(key) {\n",
              "        const element = document.querySelector('#df-ef16433a-f482-4919-972f-26ca9e9b9453');\n",
              "        const dataTable =\n",
              "          await google.colab.kernel.invokeFunction('convertToInteractive',\n",
              "                                                    [key], {});\n",
              "        if (!dataTable) return;\n",
              "\n",
              "        const docLinkHtml = 'Like what you see? Visit the ' +\n",
              "          '<a target=\"_blank\" href=https://colab.research.google.com/notebooks/data_table.ipynb>data table notebook</a>'\n",
              "          + ' to learn more about interactive tables.';\n",
              "        element.innerHTML = '';\n",
              "        dataTable['output_type'] = 'display_data';\n",
              "        await google.colab.output.renderOutput(dataTable, element);\n",
              "        const docLink = document.createElement('div');\n",
              "        docLink.innerHTML = docLinkHtml;\n",
              "        element.appendChild(docLink);\n",
              "      }\n",
              "    </script>\n",
              "  </div>\n",
              "\n",
              "\n",
              "<div id=\"df-01946d2b-7b3e-49a7-9323-b9aa3b45aadf\">\n",
              "  <button class=\"colab-df-quickchart\" onclick=\"quickchart('df-01946d2b-7b3e-49a7-9323-b9aa3b45aadf')\"\n",
              "            title=\"Suggest charts\"\n",
              "            style=\"display:none;\">\n",
              "\n",
              "<svg xmlns=\"http://www.w3.org/2000/svg\" height=\"24px\"viewBox=\"0 0 24 24\"\n",
              "     width=\"24px\">\n",
              "    <g>\n",
              "        <path d=\"M19 3H5c-1.1 0-2 .9-2 2v14c0 1.1.9 2 2 2h14c1.1 0 2-.9 2-2V5c0-1.1-.9-2-2-2zM9 17H7v-7h2v7zm4 0h-2V7h2v10zm4 0h-2v-4h2v4z\"/>\n",
              "    </g>\n",
              "</svg>\n",
              "  </button>\n",
              "\n",
              "<style>\n",
              "  .colab-df-quickchart {\n",
              "      --bg-color: #E8F0FE;\n",
              "      --fill-color: #1967D2;\n",
              "      --hover-bg-color: #E2EBFA;\n",
              "      --hover-fill-color: #174EA6;\n",
              "      --disabled-fill-color: #AAA;\n",
              "      --disabled-bg-color: #DDD;\n",
              "  }\n",
              "\n",
              "  [theme=dark] .colab-df-quickchart {\n",
              "      --bg-color: #3B4455;\n",
              "      --fill-color: #D2E3FC;\n",
              "      --hover-bg-color: #434B5C;\n",
              "      --hover-fill-color: #FFFFFF;\n",
              "      --disabled-bg-color: #3B4455;\n",
              "      --disabled-fill-color: #666;\n",
              "  }\n",
              "\n",
              "  .colab-df-quickchart {\n",
              "    background-color: var(--bg-color);\n",
              "    border: none;\n",
              "    border-radius: 50%;\n",
              "    cursor: pointer;\n",
              "    display: none;\n",
              "    fill: var(--fill-color);\n",
              "    height: 32px;\n",
              "    padding: 0;\n",
              "    width: 32px;\n",
              "  }\n",
              "\n",
              "  .colab-df-quickchart:hover {\n",
              "    background-color: var(--hover-bg-color);\n",
              "    box-shadow: 0 1px 2px rgba(60, 64, 67, 0.3), 0 1px 3px 1px rgba(60, 64, 67, 0.15);\n",
              "    fill: var(--button-hover-fill-color);\n",
              "  }\n",
              "\n",
              "  .colab-df-quickchart-complete:disabled,\n",
              "  .colab-df-quickchart-complete:disabled:hover {\n",
              "    background-color: var(--disabled-bg-color);\n",
              "    fill: var(--disabled-fill-color);\n",
              "    box-shadow: none;\n",
              "  }\n",
              "\n",
              "  .colab-df-spinner {\n",
              "    border: 2px solid var(--fill-color);\n",
              "    border-color: transparent;\n",
              "    border-bottom-color: var(--fill-color);\n",
              "    animation:\n",
              "      spin 1s steps(1) infinite;\n",
              "  }\n",
              "\n",
              "  @keyframes spin {\n",
              "    0% {\n",
              "      border-color: transparent;\n",
              "      border-bottom-color: var(--fill-color);\n",
              "      border-left-color: var(--fill-color);\n",
              "    }\n",
              "    20% {\n",
              "      border-color: transparent;\n",
              "      border-left-color: var(--fill-color);\n",
              "      border-top-color: var(--fill-color);\n",
              "    }\n",
              "    30% {\n",
              "      border-color: transparent;\n",
              "      border-left-color: var(--fill-color);\n",
              "      border-top-color: var(--fill-color);\n",
              "      border-right-color: var(--fill-color);\n",
              "    }\n",
              "    40% {\n",
              "      border-color: transparent;\n",
              "      border-right-color: var(--fill-color);\n",
              "      border-top-color: var(--fill-color);\n",
              "    }\n",
              "    60% {\n",
              "      border-color: transparent;\n",
              "      border-right-color: var(--fill-color);\n",
              "    }\n",
              "    80% {\n",
              "      border-color: transparent;\n",
              "      border-right-color: var(--fill-color);\n",
              "      border-bottom-color: var(--fill-color);\n",
              "    }\n",
              "    90% {\n",
              "      border-color: transparent;\n",
              "      border-bottom-color: var(--fill-color);\n",
              "    }\n",
              "  }\n",
              "</style>\n",
              "\n",
              "  <script>\n",
              "    async function quickchart(key) {\n",
              "      const quickchartButtonEl =\n",
              "        document.querySelector('#' + key + ' button');\n",
              "      quickchartButtonEl.disabled = true;  // To prevent multiple clicks.\n",
              "      quickchartButtonEl.classList.add('colab-df-spinner');\n",
              "      try {\n",
              "        const charts = await google.colab.kernel.invokeFunction(\n",
              "            'suggestCharts', [key], {});\n",
              "      } catch (error) {\n",
              "        console.error('Error during call to suggestCharts:', error);\n",
              "      }\n",
              "      quickchartButtonEl.classList.remove('colab-df-spinner');\n",
              "      quickchartButtonEl.classList.add('colab-df-quickchart-complete');\n",
              "    }\n",
              "    (() => {\n",
              "      let quickchartButtonEl =\n",
              "        document.querySelector('#df-01946d2b-7b3e-49a7-9323-b9aa3b45aadf button');\n",
              "      quickchartButtonEl.style.display =\n",
              "        google.colab.kernel.accessAllowed ? 'block' : 'none';\n",
              "    })();\n",
              "  </script>\n",
              "</div>\n",
              "\n",
              "    </div>\n",
              "  </div>\n"
            ],
            "application/vnd.google.colaboratory.intrinsic+json": {
              "type": "dataframe",
              "variable_name": "df",
              "summary": "{\n  \"name\": \"df\",\n  \"rows\": 348,\n  \"fields\": [\n    {\n      \"column\": \"year\",\n      \"properties\": {\n        \"dtype\": \"number\",\n        \"std\": 0,\n        \"min\": 2019,\n        \"max\": 2019,\n        \"num_unique_values\": 1,\n        \"samples\": [\n          2019\n        ],\n        \"semantic_type\": \"\",\n        \"description\": \"\"\n      }\n    },\n    {\n      \"column\": \"month\",\n      \"properties\": {\n        \"dtype\": \"number\",\n        \"std\": 3,\n        \"min\": 1,\n        \"max\": 12,\n        \"num_unique_values\": 12,\n        \"samples\": [\n          11\n        ],\n        \"semantic_type\": \"\",\n        \"description\": \"\"\n      }\n    },\n    {\n      \"column\": \"day\",\n      \"properties\": {\n        \"dtype\": \"number\",\n        \"std\": 8,\n        \"min\": 1,\n        \"max\": 31,\n        \"num_unique_values\": 31,\n        \"samples\": [\n          28\n        ],\n        \"semantic_type\": \"\",\n        \"description\": \"\"\n      }\n    },\n    {\n      \"column\": \"temp_2\",\n      \"properties\": {\n        \"dtype\": \"number\",\n        \"std\": 12,\n        \"min\": 35,\n        \"max\": 117,\n        \"num_unique_values\": 56,\n        \"samples\": [\n          45\n        ],\n        \"semantic_type\": \"\",\n        \"description\": \"\"\n      }\n    },\n    {\n      \"column\": \"temp_1\",\n      \"properties\": {\n        \"dtype\": \"number\",\n        \"std\": 12,\n        \"min\": 35,\n        \"max\": 117,\n        \"num_unique_values\": 56,\n        \"samples\": [\n          45\n        ],\n        \"semantic_type\": \"\",\n        \"description\": \"\"\n      }\n    },\n    {\n      \"column\": \"average\",\n      \"properties\": {\n        \"dtype\": \"number\",\n        \"std\": 10.527306425625643,\n        \"min\": 45.1,\n        \"max\": 77.4,\n        \"num_unique_values\": 243,\n        \"samples\": [\n          48.2\n        ],\n        \"semantic_type\": \"\",\n        \"description\": \"\"\n      }\n    },\n    {\n      \"column\": \"actual\",\n      \"properties\": {\n        \"dtype\": \"number\",\n        \"std\": 11,\n        \"min\": 35,\n        \"max\": 92,\n        \"num_unique_values\": 55,\n        \"samples\": [\n          81\n        ],\n        \"semantic_type\": \"\",\n        \"description\": \"\"\n      }\n    },\n    {\n      \"column\": \"friend\",\n      \"properties\": {\n        \"dtype\": \"number\",\n        \"std\": 15,\n        \"min\": 28,\n        \"max\": 95,\n        \"num_unique_values\": 66,\n        \"samples\": [\n          89\n        ],\n        \"semantic_type\": \"\",\n        \"description\": \"\"\n      }\n    },\n    {\n      \"column\": \"week_Fri\",\n      \"properties\": {\n        \"dtype\": \"boolean\",\n        \"num_unique_values\": 2,\n        \"samples\": [\n          false\n        ],\n        \"semantic_type\": \"\",\n        \"description\": \"\"\n      }\n    },\n    {\n      \"column\": \"week_Mon\",\n      \"properties\": {\n        \"dtype\": \"boolean\",\n        \"num_unique_values\": 2,\n        \"samples\": [\n          true\n        ],\n        \"semantic_type\": \"\",\n        \"description\": \"\"\n      }\n    },\n    {\n      \"column\": \"week_Sat\",\n      \"properties\": {\n        \"dtype\": \"boolean\",\n        \"num_unique_values\": 2,\n        \"samples\": [\n          true\n        ],\n        \"semantic_type\": \"\",\n        \"description\": \"\"\n      }\n    },\n    {\n      \"column\": \"week_Sun\",\n      \"properties\": {\n        \"dtype\": \"boolean\",\n        \"num_unique_values\": 2,\n        \"samples\": [\n          true\n        ],\n        \"semantic_type\": \"\",\n        \"description\": \"\"\n      }\n    },\n    {\n      \"column\": \"week_Thurs\",\n      \"properties\": {\n        \"dtype\": \"boolean\",\n        \"num_unique_values\": 2,\n        \"samples\": [\n          true\n        ],\n        \"semantic_type\": \"\",\n        \"description\": \"\"\n      }\n    },\n    {\n      \"column\": \"week_Tues\",\n      \"properties\": {\n        \"dtype\": \"boolean\",\n        \"num_unique_values\": 2,\n        \"samples\": [\n          true\n        ],\n        \"semantic_type\": \"\",\n        \"description\": \"\"\n      }\n    },\n    {\n      \"column\": \"week_Wed\",\n      \"properties\": {\n        \"dtype\": \"boolean\",\n        \"num_unique_values\": 2,\n        \"samples\": [\n          true\n        ],\n        \"semantic_type\": \"\",\n        \"description\": \"\"\n      }\n    }\n  ]\n}"
            }
          },
          "metadata": {},
          "execution_count": 8
        }
      ],
      "source": [
        "# One-hot encode categorical features\n",
        "df = pd.get_dummies(df)\n",
        "df.head(5)"
      ]
    },
    {
      "cell_type": "code",
      "execution_count": 9,
      "id": "fifty-parker",
      "metadata": {
        "execution": {
          "iopub.execute_input": "2021-09-12T07:48:52.333219Z",
          "iopub.status.busy": "2021-09-12T07:48:52.332504Z",
          "iopub.status.idle": "2021-09-12T07:48:52.336812Z",
          "shell.execute_reply": "2021-09-12T07:48:52.337311Z",
          "shell.execute_reply.started": "2021-09-12T07:42:11.312458Z"
        },
        "id": "fifty-parker",
        "outputId": "5e56e4d2-71e8-421b-c244-4ef03dcc520d",
        "papermill": {
          "duration": 0.031884,
          "end_time": "2021-09-12T07:48:52.337471",
          "exception": false,
          "start_time": "2021-09-12T07:48:52.305587",
          "status": "completed"
        },
        "tags": [],
        "colab": {
          "base_uri": "https://localhost:8080/"
        }
      },
      "outputs": [
        {
          "output_type": "stream",
          "name": "stdout",
          "text": [
            "Shape of features after one-hot encoding: (348, 15)\n"
          ]
        }
      ],
      "source": [
        "print('Shape of features after one-hot encoding:', df.shape)"
      ]
    },
    {
      "cell_type": "markdown",
      "id": "white-verification",
      "metadata": {
        "id": "white-verification",
        "papermill": {
          "duration": 0.022456,
          "end_time": "2021-09-12T07:48:52.383395",
          "exception": false,
          "start_time": "2021-09-12T07:48:52.360939",
          "status": "completed"
        },
        "tags": []
      },
      "source": [
        "## Features and Labels"
      ]
    },
    {
      "cell_type": "code",
      "execution_count": 10,
      "id": "hired-homework",
      "metadata": {
        "execution": {
          "iopub.execute_input": "2021-09-12T07:48:52.432970Z",
          "iopub.status.busy": "2021-09-12T07:48:52.432258Z",
          "iopub.status.idle": "2021-09-12T07:48:52.437823Z",
          "shell.execute_reply": "2021-09-12T07:48:52.438336Z",
          "shell.execute_reply.started": "2021-09-12T07:42:11.322261Z"
        },
        "id": "hired-homework",
        "papermill": {
          "duration": 0.031895,
          "end_time": "2021-09-12T07:48:52.438501",
          "exception": false,
          "start_time": "2021-09-12T07:48:52.406606",
          "status": "completed"
        },
        "tags": []
      },
      "outputs": [],
      "source": [
        "# Labels are the values we want to predict\n",
        "labels = df['actual']\n",
        "\n",
        "# Remove the labels from the features\n",
        "df = df.drop('actual', axis = 1)\n",
        "\n",
        "# Saving feature names for later use\n",
        "feature_list = list(df.columns)"
      ]
    },
    {
      "cell_type": "markdown",
      "id": "temporal-infection",
      "metadata": {
        "id": "temporal-infection",
        "papermill": {
          "duration": 0.022428,
          "end_time": "2021-09-12T07:48:52.483907",
          "exception": false,
          "start_time": "2021-09-12T07:48:52.461479",
          "status": "completed"
        },
        "tags": []
      },
      "source": [
        "## Train Test Split"
      ]
    },
    {
      "cell_type": "code",
      "execution_count": 11,
      "id": "balanced-upset",
      "metadata": {
        "execution": {
          "iopub.execute_input": "2021-09-12T07:48:52.532995Z",
          "iopub.status.busy": "2021-09-12T07:48:52.532352Z",
          "iopub.status.idle": "2021-09-12T07:48:52.538749Z",
          "shell.execute_reply": "2021-09-12T07:48:52.539290Z",
          "shell.execute_reply.started": "2021-09-12T07:42:11.336886Z"
        },
        "id": "balanced-upset",
        "papermill": {
          "duration": 0.032336,
          "end_time": "2021-09-12T07:48:52.539466",
          "exception": false,
          "start_time": "2021-09-12T07:48:52.507130",
          "status": "completed"
        },
        "tags": []
      },
      "outputs": [],
      "source": [
        "# Using Skicit-learn to split data into training and testing sets\n",
        "from sklearn.model_selection import train_test_split\n",
        "\n",
        "# Split the data into training and testing sets\n",
        "train_features, test_features, train_labels, test_labels = train_test_split(df,\n",
        "                                                                            labels,\n",
        "                                                                            test_size = 0.20,\n",
        "                                                                            random_state = 42)"
      ]
    },
    {
      "cell_type": "code",
      "execution_count": 12,
      "id": "intelligent-smoke",
      "metadata": {
        "execution": {
          "iopub.execute_input": "2021-09-12T07:48:52.588115Z",
          "iopub.status.busy": "2021-09-12T07:48:52.587443Z",
          "iopub.status.idle": "2021-09-12T07:48:52.595593Z",
          "shell.execute_reply": "2021-09-12T07:48:52.596233Z",
          "shell.execute_reply.started": "2021-09-12T07:42:11.350426Z"
        },
        "id": "intelligent-smoke",
        "outputId": "a34f0002-8fe9-419a-df0e-57fc9870cb5c",
        "papermill": {
          "duration": 0.034276,
          "end_time": "2021-09-12T07:48:52.596463",
          "exception": false,
          "start_time": "2021-09-12T07:48:52.562187",
          "status": "completed"
        },
        "tags": [],
        "colab": {
          "base_uri": "https://localhost:8080/"
        }
      },
      "outputs": [
        {
          "output_type": "stream",
          "name": "stdout",
          "text": [
            "Training Features Shape: (278, 14)\n",
            "Training Labels Shape: (278,)\n",
            "Testing Features Shape: (70, 14)\n",
            "Testing Labels Shape: (70,)\n"
          ]
        }
      ],
      "source": [
        "print('Training Features Shape:', train_features.shape)\n",
        "print('Training Labels Shape:', train_labels.shape)\n",
        "print('Testing Features Shape:', test_features.shape)\n",
        "print('Testing Labels Shape:', test_labels.shape)"
      ]
    },
    {
      "cell_type": "markdown",
      "id": "changing-instrumentation",
      "metadata": {
        "id": "changing-instrumentation",
        "papermill": {
          "duration": 0.023067,
          "end_time": "2021-09-12T07:48:52.642869",
          "exception": false,
          "start_time": "2021-09-12T07:48:52.619802",
          "status": "completed"
        },
        "tags": []
      },
      "source": [
        "## Training the Forest"
      ]
    },
    {
      "cell_type": "code",
      "execution_count": 13,
      "id": "dated-embassy",
      "metadata": {
        "execution": {
          "iopub.execute_input": "2021-09-12T07:48:52.695065Z",
          "iopub.status.busy": "2021-09-12T07:48:52.694342Z",
          "iopub.status.idle": "2021-09-12T07:48:55.062661Z",
          "shell.execute_reply": "2021-09-12T07:48:55.062092Z",
          "shell.execute_reply.started": "2021-09-12T07:42:11.360229Z"
        },
        "hideCode": false,
        "hidePrompt": false,
        "id": "dated-embassy",
        "papermill": {
          "duration": 2.396497,
          "end_time": "2021-09-12T07:48:55.062810",
          "exception": false,
          "start_time": "2021-09-12T07:48:52.666313",
          "status": "completed"
        },
        "tags": []
      },
      "outputs": [],
      "source": [
        "# Import the model we are using\n",
        "from sklearn.ensemble import RandomForestRegressor\n",
        "\n",
        "# Instantiate model\n",
        "rf = RandomForestRegressor(n_estimators= 1000, random_state=42)\n",
        "\n",
        "# Train the model on training data\n",
        "rf.fit(train_features, train_labels);"
      ]
    },
    {
      "cell_type": "markdown",
      "id": "friendly-genre",
      "metadata": {
        "id": "friendly-genre",
        "papermill": {
          "duration": 0.022792,
          "end_time": "2021-09-12T07:48:55.108896",
          "exception": false,
          "start_time": "2021-09-12T07:48:55.086104",
          "status": "completed"
        },
        "tags": []
      },
      "source": [
        "## Make Predictions on Test Data"
      ]
    },
    {
      "cell_type": "code",
      "execution_count": 14,
      "id": "phantom-display",
      "metadata": {
        "execution": {
          "iopub.execute_input": "2021-09-12T07:48:55.164799Z",
          "iopub.status.busy": "2021-09-12T07:48:55.163136Z",
          "iopub.status.idle": "2021-09-12T07:48:55.268656Z",
          "shell.execute_reply": "2021-09-12T07:48:55.269144Z",
          "shell.execute_reply.started": "2021-09-12T07:42:13.844870Z"
        },
        "id": "phantom-display",
        "outputId": "a2f4e4c2-c54a-4644-dc36-c16b103d376b",
        "papermill": {
          "duration": 0.13681,
          "end_time": "2021-09-12T07:48:55.269309",
          "exception": false,
          "start_time": "2021-09-12T07:48:55.132499",
          "status": "completed"
        },
        "tags": [],
        "colab": {
          "base_uri": "https://localhost:8080/"
        }
      },
      "outputs": [
        {
          "output_type": "stream",
          "name": "stdout",
          "text": [
            "Mean Absolute Error: 3.78 degrees.\n"
          ]
        }
      ],
      "source": [
        "# Use the forest's predict method on the test data\n",
        "predictions = rf.predict(test_features)\n",
        "\n",
        "# Calculate the absolute errors\n",
        "errors = abs(predictions - test_labels)\n",
        "\n",
        "# Print out the mean absolute error (mae)\n",
        "print('Mean Absolute Error:', round(np.mean(errors), 2), 'degrees.')\n"
      ]
    },
    {
      "cell_type": "code",
      "execution_count": 15,
      "id": "entitled-vault",
      "metadata": {
        "execution": {
          "iopub.execute_input": "2021-09-12T07:48:55.319663Z",
          "iopub.status.busy": "2021-09-12T07:48:55.318976Z",
          "iopub.status.idle": "2021-09-12T07:48:55.324749Z",
          "shell.execute_reply": "2021-09-12T07:48:55.325257Z",
          "shell.execute_reply.started": "2021-09-12T07:42:13.978549Z"
        },
        "id": "entitled-vault",
        "outputId": "431f921a-282d-4791-dd9c-20625564332f",
        "papermill": {
          "duration": 0.03243,
          "end_time": "2021-09-12T07:48:55.325428",
          "exception": false,
          "start_time": "2021-09-12T07:48:55.292998",
          "status": "completed"
        },
        "tags": [],
        "colab": {
          "base_uri": "https://localhost:8080/"
        }
      },
      "outputs": [
        {
          "output_type": "stream",
          "name": "stdout",
          "text": [
            "Accuracy: 94.02 %.\n"
          ]
        }
      ],
      "source": [
        "# Calculate mean absolute percentage error (MAPE)\n",
        "mape = 100 * (errors / test_labels)\n",
        "\n",
        "# Calculate and display accuracy\n",
        "accuracy = 100 - np.mean(mape)\n",
        "print('Accuracy:', round(accuracy, 2), '%.')"
      ]
    },
    {
      "cell_type": "markdown",
      "id": "periodic-listening",
      "metadata": {
        "id": "periodic-listening",
        "papermill": {
          "duration": 0.023666,
          "end_time": "2021-09-12T07:48:55.373122",
          "exception": false,
          "start_time": "2021-09-12T07:48:55.349456",
          "status": "completed"
        },
        "tags": []
      },
      "source": [
        "## Visualizing a Single Decision Tree"
      ]
    },
    {
      "cell_type": "code",
      "execution_count": 16,
      "id": "verified-wales",
      "metadata": {
        "execution": {
          "iopub.execute_input": "2021-09-12T07:48:55.424898Z",
          "iopub.status.busy": "2021-09-12T07:48:55.424226Z",
          "iopub.status.idle": "2021-09-12T07:48:58.761366Z",
          "shell.execute_reply": "2021-09-12T07:48:58.760805Z",
          "shell.execute_reply.started": "2021-09-12T07:42:13.988748Z"
        },
        "id": "verified-wales",
        "papermill": {
          "duration": 3.36453,
          "end_time": "2021-09-12T07:48:58.761521",
          "exception": false,
          "start_time": "2021-09-12T07:48:55.396991",
          "status": "completed"
        },
        "tags": []
      },
      "outputs": [],
      "source": [
        "# Pull out one tree from the forest\n",
        "tree = rf.estimators_[5]\n",
        "\n",
        "# Export the image to a dot file\n",
        "export_graphviz(tree, out_file = 'tree.dot', feature_names = feature_list, rounded = True, precision = 1)\n",
        "\n",
        "# Use dot file to create a graph\n",
        "(graph, ) = pydot.graph_from_dot_file('tree.dot')\n",
        "\n",
        "# Write graph to a png file\n",
        "graph.write_png('tree.png');"
      ]
    },
    {
      "cell_type": "markdown",
      "id": "metallic-slovakia",
      "metadata": {
        "id": "metallic-slovakia",
        "papermill": {
          "duration": 0.023528,
          "end_time": "2021-09-12T07:48:58.809005",
          "exception": false,
          "start_time": "2021-09-12T07:48:58.785477",
          "status": "completed"
        },
        "tags": []
      },
      "source": [
        "![Decision Tree](tree.png)"
      ]
    },
    {
      "cell_type": "code",
      "execution_count": null,
      "id": "gentle-publicity",
      "metadata": {
        "execution": {
          "iopub.execute_input": "2021-09-12T07:48:58.861846Z",
          "iopub.status.busy": "2021-09-12T07:48:58.861224Z",
          "iopub.status.idle": "2021-09-12T07:48:58.864738Z",
          "shell.execute_reply": "2021-09-12T07:48:58.864131Z",
          "shell.execute_reply.started": "2021-09-12T07:42:17.372566Z"
        },
        "id": "gentle-publicity",
        "outputId": "d633e5a4-35b3-434c-a2aa-d719710de636",
        "papermill": {
          "duration": 0.032275,
          "end_time": "2021-09-12T07:48:58.864869",
          "exception": false,
          "start_time": "2021-09-12T07:48:58.832594",
          "status": "completed"
        },
        "tags": []
      },
      "outputs": [
        {
          "name": "stdout",
          "output_type": "stream",
          "text": [
            "The depth of this tree is: 13\n"
          ]
        }
      ],
      "source": [
        "print('The depth of this tree is:', tree.tree_.max_depth)"
      ]
    },
    {
      "cell_type": "markdown",
      "id": "comprehensive-partition",
      "metadata": {
        "id": "comprehensive-partition",
        "papermill": {
          "duration": 0.023465,
          "end_time": "2021-09-12T07:48:58.912065",
          "exception": false,
          "start_time": "2021-09-12T07:48:58.888600",
          "status": "completed"
        },
        "tags": []
      },
      "source": [
        "Smaller tree for visualization."
      ]
    },
    {
      "cell_type": "markdown",
      "id": "municipal-guarantee",
      "metadata": {
        "id": "municipal-guarantee",
        "papermill": {
          "duration": 0.023503,
          "end_time": "2021-09-12T07:48:58.959578",
          "exception": false,
          "start_time": "2021-09-12T07:48:58.936075",
          "status": "completed"
        },
        "tags": []
      },
      "source": [
        "![Small Decision Tree](small_tree.PNG)"
      ]
    },
    {
      "cell_type": "markdown",
      "id": "capital-satellite",
      "metadata": {
        "papermill": {
          "duration": 0.023487,
          "end_time": "2021-09-12T07:48:59.006818",
          "exception": false,
          "start_time": "2021-09-12T07:48:58.983331",
          "status": "completed"
        },
        "tags": [],
        "id": "capital-satellite"
      },
      "source": [
        "If you find the notebook useful, please consider **upvoting**<p>\n",
        "**Thank you !**"
      ]
    }
  ],
  "metadata": {
    "kernelspec": {
      "display_name": "Python 3",
      "language": "python",
      "name": "python3"
    },
    "language_info": {
      "codemirror_mode": {
        "name": "ipython",
        "version": 3
      },
      "file_extension": ".py",
      "mimetype": "text/x-python",
      "name": "python",
      "nbconvert_exporter": "python",
      "pygments_lexer": "ipython3",
      "version": "3.7.10"
    },
    "papermill": {
      "default_parameters": {},
      "duration": 17.822697,
      "end_time": "2021-09-12T07:49:00.419368",
      "environment_variables": {},
      "exception": null,
      "input_path": "__notebook__.ipynb",
      "output_path": "__notebook__.ipynb",
      "parameters": {},
      "start_time": "2021-09-12T07:48:42.596671",
      "version": "2.3.3"
    },
    "colab": {
      "provenance": [],
      "include_colab_link": true
    }
  },
  "nbformat": 4,
  "nbformat_minor": 5
}